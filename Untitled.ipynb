{
 "cells": [
  {
   "cell_type": "markdown",
   "id": "055d8571-d490-4273-a096-acd5316411e1",
   "metadata": {},
   "source": [
    "## Complete Numpy Documentation"
   ]
  },
  {
   "cell_type": "markdown",
   "id": "63edfd47-09e4-46c0-9ddb-f5af2e173d4f",
   "metadata": {},
   "source": [
    "# 1. ARRY CREATION FUNCTION"
   ]
  },
  {
   "cell_type": "code",
   "execution_count": 27,
   "id": "e2716ccb-8ef9-463f-9016-351c6cf88355",
   "metadata": {},
   "outputs": [],
   "source": [
    "import numpy as np"
   ]
  },
  {
   "cell_type": "code",
   "execution_count": 323,
   "id": "7285485f-5a6d-47d2-992c-87a482125d6a",
   "metadata": {},
   "outputs": [
    {
     "name": "stdout",
     "output_type": "stream",
     "text": [
      "Array: [1 2 3 4]\n"
     ]
    }
   ],
   "source": [
    "#creat an arry from a list\n",
    "a=np.array([1,2,3,4])\n",
    "print(\"Array:\",a)"
   ]
  },
  {
   "cell_type": "code",
   "execution_count": 326,
   "id": "2dcfa2a8-696d-44c4-a059-b6ae3e042f07",
   "metadata": {},
   "outputs": [
    {
     "name": "stdout",
     "output_type": "stream",
     "text": [
      "Array a: [1 2 3 4]\n"
     ]
    }
   ],
   "source": [
    "print(\"Array a:\",a)"
   ]
  },
  {
   "cell_type": "code",
   "execution_count": 328,
   "id": "643a61c0-cd52-4661-ae37-9071549ba6e3",
   "metadata": {},
   "outputs": [
    {
     "name": "stdout",
     "output_type": "stream",
     "text": [
      "Array b: [0 2 4 6 8]\n"
     ]
    }
   ],
   "source": [
    "#creat an array with evenly spaced values\n",
    "b = np.arange(0,10,2) # values from 0 to 10 with step 2\n",
    "print(\"Array b:\",b)"
   ]
  },
  {
   "cell_type": "code",
   "execution_count": 330,
   "id": "d63b20db-f186-480f-a8e0-bdfeb527a5ff",
   "metadata": {},
   "outputs": [
    {
     "name": "stdout",
     "output_type": "stream",
     "text": [
      "Array: [0 3 6 9]\n"
     ]
    }
   ],
   "source": [
    "b1 = np.arange(0,10,3)\n",
    "print(\"Array:\",b1)"
   ]
  },
  {
   "cell_type": "code",
   "execution_count": 68,
   "id": "1a1c4d89-1127-4777-b937-9709d6d3ecf6",
   "metadata": {},
   "outputs": [
    {
     "name": "stdout",
     "output_type": "stream",
     "text": [
      "Array: [0.   0.25 0.5  0.75 1.  ]\n"
     ]
    }
   ],
   "source": [
    "#creat an array with linear spaced values\n",
    "c = np.linspace(0,1,5) # 5 values evenly spaced between 0 & 1\n",
    "print(\"Array:\",c)"
   ]
  },
  {
   "cell_type": "code",
   "execution_count": 70,
   "id": "a82e687c-f24d-49a6-ad68-6e094fad30ac",
   "metadata": {},
   "outputs": [
    {
     "name": "stdout",
     "output_type": "stream",
     "text": [
      "Array: [0.         0.11111111 0.22222222 0.33333333 0.44444444 0.55555556\n",
      " 0.66666667 0.77777778 0.88888889 1.        ]\n"
     ]
    }
   ],
   "source": [
    "c1 = np.linspace(0,1,10)#np.linspace is also include endpoint,that how it's designed.\n",
    "print(\"Array:\",c1)"
   ]
  },
  {
   "cell_type": "code",
   "execution_count": 80,
   "id": "98fc88e8-4430-47c6-a100-5f8d2da12469",
   "metadata": {},
   "outputs": [
    {
     "name": "stdout",
     "output_type": "stream",
     "text": [
      "Array: [[0. 0. 0.]\n",
      " [0. 0. 0.]]\n"
     ]
    }
   ],
   "source": [
    "#creat an array filled with zeros\n",
    "d = np.zeros((2,3))\n",
    "print(\"Array:\",d)\n"
   ]
  },
  {
   "cell_type": "code",
   "execution_count": 82,
   "id": "c8642c56-2305-460c-bca6-8f8ecfe4aaca",
   "metadata": {},
   "outputs": [
    {
     "data": {
      "text/plain": [
       "array([[0, 0, 0],\n",
       "       [0, 0, 0]])"
      ]
     },
     "execution_count": 82,
     "metadata": {},
     "output_type": "execute_result"
    }
   ],
   "source": [
    "np.zeros((2,3),dtype=int)#converted float to int\n"
   ]
  },
  {
   "cell_type": "code",
   "execution_count": 84,
   "id": "21e89119-96eb-4f1b-9974-ae7de1cd4409",
   "metadata": {},
   "outputs": [],
   "source": [
    "#creat an array filled with ones\n",
    "e = np.ones((3,2)) #3*2 array of ones"
   ]
  },
  {
   "cell_type": "code",
   "execution_count": 86,
   "id": "03036525-e7c7-42bb-9c98-8a7dc79c3041",
   "metadata": {},
   "outputs": [
    {
     "name": "stdout",
     "output_type": "stream",
     "text": [
      "Array: [[1. 1.]\n",
      " [1. 1.]\n",
      " [1. 1.]]\n"
     ]
    }
   ],
   "source": [
    "print(\"Array:\",e)"
   ]
  },
  {
   "cell_type": "code",
   "execution_count": 94,
   "id": "1ca150e8-7601-4110-9145-a0d008faff60",
   "metadata": {},
   "outputs": [
    {
     "data": {
      "text/plain": [
       "array([[1, 1],\n",
       "       [1, 1],\n",
       "       [1, 1]])"
      ]
     },
     "execution_count": 94,
     "metadata": {},
     "output_type": "execute_result"
    }
   ],
   "source": [
    "np.ones((3,2),dtype=int)"
   ]
  },
  {
   "cell_type": "code",
   "execution_count": 98,
   "id": "abc79e95-81d3-4c86-82f7-51b71a21d30e",
   "metadata": {},
   "outputs": [
    {
     "name": "stdout",
     "output_type": "stream",
     "text": [
      "identity matrix f:\n",
      " [[1. 0. 0. 0.]\n",
      " [0. 1. 0. 0.]\n",
      " [0. 0. 1. 0.]\n",
      " [0. 0. 0. 1.]]\n"
     ]
    }
   ],
   "source": [
    "#creat an identity matrix\n",
    "f = np.eye(4) # 4*4 identity matrix\n",
    "print(\"identity matrix f:\\n\",f)"
   ]
  },
  {
   "cell_type": "code",
   "execution_count": 102,
   "id": "1f7e212e-b65a-4b17-a844-b2b848a3db95",
   "metadata": {},
   "outputs": [
    {
     "name": "stdout",
     "output_type": "stream",
     "text": [
      "identity matrix f1:\n",
      " [[1. 0. 0. 0. 0.]\n",
      " [0. 1. 0. 0. 0.]\n",
      " [0. 0. 1. 0. 0.]\n",
      " [0. 0. 0. 1. 0.]\n",
      " [0. 0. 0. 0. 1.]]\n"
     ]
    }
   ],
   "source": [
    "f1 = np.eye(5)#it creates a 5x5 identity matrix\n",
    "print(\"identity matrix f1:\\n\",f1)#The \\n in your \"print statement\" adds a newline \n",
    "                                #before the matrix for cleaner formatting."
   ]
  },
  {
   "cell_type": "markdown",
   "id": "63a93397-219a-430f-9309-eb12450cf3eb",
   "metadata": {},
   "source": [
    "# 2.Array Manipulation Functions"
   ]
  },
  {
   "cell_type": "code",
   "execution_count": 152,
   "id": "5aa00bbc-9583-4454-a9ae-a38f2249b09e",
   "metadata": {
    "scrolled": true
   },
   "outputs": [
    {
     "name": "stdout",
     "output_type": "stream",
     "text": [
      "Reshaped Array: [[1 2 3]]\n"
     ]
    }
   ],
   "source": [
    "#Reshape an array without changing its data\n",
    "a1 = np.array([1,2,3])\n",
    "reshaped = np.reshape(a1,(1,3)) #reshape to 1*3\n",
    "print(\"Reshaped Array:\",reshaped)"
   ]
  },
  {
   "cell_type": "code",
   "execution_count": 160,
   "id": "5b2772c8-0081-40f0-be5a-f36e6e836691",
   "metadata": {},
   "outputs": [
    {
     "name": "stdout",
     "output_type": "stream",
     "text": [
      "Reshape Array:\n",
      " [[3]\n",
      " [5]\n",
      " [6]\n",
      " [6]]\n"
     ]
    }
   ],
   "source": [
    "a2 = np.array([3,5,6,6])\n",
    "reshape = np.reshape(a2,(4,1))#reshape to 4*1\n",
    "print(\"Reshape Array:\\n\",reshape)"
   ]
  },
  {
   "cell_type": "code",
   "execution_count": 123,
   "id": "fbcec098-28ae-4751-a171-143200210514",
   "metadata": {},
   "outputs": [
    {
     "name": "stdout",
     "output_type": "stream",
     "text": [
      "Flattened Array: [1 2 3 4]\n"
     ]
    }
   ],
   "source": [
    "#Flatten an array\n",
    "f1 = np.array([[1,2],[3,4]])\n",
    "flattened = np.ravel(f1)# Flatten to 1D array\n",
    "print(\"Flattened Array:\",flattened)"
   ]
  },
  {
   "cell_type": "code",
   "execution_count": 168,
   "id": "d70d2469-0a76-472e-baa3-d172c6c36014",
   "metadata": {},
   "outputs": [
    {
     "name": "stdout",
     "output_type": "stream",
     "text": [
      "Flattened Array: [2 3 4 5]\n"
     ]
    }
   ],
   "source": [
    "f2=np.array([[2,3],[4,5]])\n",
    "flattened = np.ravel(f2)\n",
    "print(\"Flattened Array:\",flattened)"
   ]
  },
  {
   "cell_type": "code",
   "execution_count": 125,
   "id": "fad3c073-43fa-4f90-b772-84efffd58810",
   "metadata": {},
   "outputs": [
    {
     "data": {
      "text/plain": [
       "numpy.ndarray"
      ]
     },
     "execution_count": 125,
     "metadata": {},
     "output_type": "execute_result"
    }
   ],
   "source": [
    "type(f1)"
   ]
  },
  {
   "cell_type": "code",
   "execution_count": 127,
   "id": "76c3108e-4f19-498e-924a-3bde6ae5b2bb",
   "metadata": {},
   "outputs": [
    {
     "data": {
      "text/plain": [
       "numpy.ndarray"
      ]
     },
     "execution_count": 127,
     "metadata": {},
     "output_type": "execute_result"
    }
   ],
   "source": [
    "type(flattened)"
   ]
  },
  {
   "cell_type": "code",
   "execution_count": 137,
   "id": "999172f1-8358-426b-a656-773f447c1fd9",
   "metadata": {},
   "outputs": [
    {
     "name": "stdout",
     "output_type": "stream",
     "text": [
      "Transposed array:\n",
      " [[1 3]\n",
      " [2 4]]\n"
     ]
    }
   ],
   "source": [
    "#Transpose an array\n",
    "e1 = np.array([[1,2],[3,4]])\n",
    "transposed = np.transpose(e1) #Transpose the array\n",
    "print(\"Transposed array:\\n\", transposed)"
   ]
  },
  {
   "cell_type": "code",
   "execution_count": 172,
   "id": "a59559a4-11b3-4561-9199-cc64770ba108",
   "metadata": {},
   "outputs": [
    {
     "name": "stdout",
     "output_type": "stream",
     "text": [
      "Transposed Array:\n",
      " [[4 6]\n",
      " [5 7]]\n"
     ]
    }
   ],
   "source": [
    "e2=np.array([[4,5],[6,7]])#np.transpose() flips the array over its diagonal — \n",
    "transposed=np.transpose(e2)#it turns rows into columns and columns into rows.\n",
    "print(\"Transposed Array:\\n\",transposed)"
   ]
  },
  {
   "cell_type": "code",
   "execution_count": 174,
   "id": "6ef0a554-a0d3-4387-ada1-97d595e323f7",
   "metadata": {},
   "outputs": [
    {
     "name": "stdout",
     "output_type": "stream",
     "text": [
      "stacked arrays:\n",
      " [[1 2]\n",
      " [3 4]]\n"
     ]
    }
   ],
   "source": [
    "#stack arrays vertically\n",
    "a2 = np.array ([1,2])\n",
    "b2 = np.array([3,4])\n",
    "stacked = np.vstack([a2,b2]) #stack a and b vertically\n",
    "print(\"stacked arrays:\\n\",stacked)"
   ]
  },
  {
   "cell_type": "code",
   "execution_count": 178,
   "id": "aa894a1d-3f24-4881-bf5b-bdcc45c27030",
   "metadata": {},
   "outputs": [
    {
     "name": "stdout",
     "output_type": "stream",
     "text": [
      "Stacked Arrays:\n",
      " [1 2 3 4]\n"
     ]
    }
   ],
   "source": [
    "#stack arrays horizontaly\n",
    "h1=np.array([1,2])\n",
    "h2=np.array([3,4])\n",
    "stacked = np.hstack([h1,h2])#stack h1 and h2 horizontaly\n",
    "print(\"Stacked Arrays:\\n\",stacked)"
   ]
  },
  {
   "cell_type": "markdown",
   "id": "70c21636-cce9-4fde-8c0c-6e28c4c0f23c",
   "metadata": {},
   "source": [
    "# 3.Mathematical Functions"
   ]
  },
  {
   "cell_type": "code",
   "execution_count": 144,
   "id": "4905bd2e-19d8-490e-bc84-0a4444375062",
   "metadata": {},
   "outputs": [
    {
     "name": "stdout",
     "output_type": "stream",
     "text": [
      "Added 2 to g: [3 4 5 6]\n"
     ]
    }
   ],
   "source": [
    "# add two arrays\n",
    "g = np.array([1,2,3,4])\n",
    "added = np.add(g,2) #Add 2 to each element\n",
    "print(\"Added 2 to g:\",added)"
   ]
  },
  {
   "cell_type": "code",
   "execution_count": 182,
   "id": "71c52fd7-d303-4cb8-8eb8-8c30d49a56d8",
   "metadata": {},
   "outputs": [
    {
     "name": "stdout",
     "output_type": "stream",
     "text": [
      "Added 2 to h: [ 4  6  8 10]\n"
     ]
    }
   ],
   "source": [
    "a=np.array([2,4,6,8])\n",
    "added=np.add(a,2) #add 2 to each element\n",
    "print(\"Added 2 to h:\",added)"
   ]
  },
  {
   "cell_type": "code",
   "execution_count": 188,
   "id": "b6d31cb1-d16b-4370-9a4e-ec75ed1dc4b3",
   "metadata": {},
   "outputs": [
    {
     "data": {
      "text/plain": [
       "array([2, 4, 6, 8])"
      ]
     },
     "execution_count": 188,
     "metadata": {},
     "output_type": "execute_result"
    }
   ],
   "source": [
    "a"
   ]
  },
  {
   "cell_type": "code",
   "execution_count": 190,
   "id": "0171b683-b630-4d7a-9f41-ecaf1cdaac2a",
   "metadata": {},
   "outputs": [
    {
     "data": {
      "text/plain": [
       "array([1, 2, 3, 4])"
      ]
     },
     "execution_count": 190,
     "metadata": {},
     "output_type": "execute_result"
    }
   ],
   "source": [
    "g"
   ]
  },
  {
   "cell_type": "code",
   "execution_count": 186,
   "id": "4d39b176-1631-412c-8de5-d8f7f9c32326",
   "metadata": {},
   "outputs": [
    {
     "name": "stdout",
     "output_type": "stream",
     "text": [
      "Square g: [ 1  4  9 16]\n"
     ]
    }
   ],
   "source": [
    "#square each element\n",
    "squared = np.power(g,2) # square each element)\n",
    "print(\"Square g:\",squared)"
   ]
  },
  {
   "cell_type": "code",
   "execution_count": 194,
   "id": "fadccb14-94bc-450e-91c2-d437f664fd34",
   "metadata": {},
   "outputs": [
    {
     "ename": "ValueError",
     "evalue": "shapes (3,) and (4,) not aligned: 3 (dim 0) != 4 (dim 0)",
     "output_type": "error",
     "traceback": [
      "\u001b[1;31m---------------------------------------------------------------------------\u001b[0m",
      "\u001b[1;31mValueError\u001b[0m                                Traceback (most recent call last)",
      "Cell \u001b[1;32mIn[194], line 3\u001b[0m\n\u001b[0;32m      1\u001b[0m \u001b[38;5;66;03m#Don't product of two arrays\u001b[39;00m\n\u001b[0;32m      2\u001b[0m a\u001b[38;5;241m=\u001b[39mnp\u001b[38;5;241m.\u001b[39marray([\u001b[38;5;241m1\u001b[39m,\u001b[38;5;241m2\u001b[39m,\u001b[38;5;241m3\u001b[39m])\n\u001b[1;32m----> 3\u001b[0m dot_product \u001b[38;5;241m=\u001b[39m np\u001b[38;5;241m.\u001b[39mdot(a,g) \u001b[38;5;66;03m#dot product of a and g\u001b[39;00m\n\u001b[0;32m      4\u001b[0m \u001b[38;5;28mprint\u001b[39m(\u001b[38;5;124m\"\u001b[39m\u001b[38;5;124mDot product of a and g:\u001b[39m\u001b[38;5;124m\"\u001b[39m,dot_product)\n",
      "\u001b[1;31mValueError\u001b[0m: shapes (3,) and (4,) not aligned: 3 (dim 0) != 4 (dim 0)"
     ]
    }
   ],
   "source": [
    "#Don't product of two arrays\n",
    "a=np.array([1,2,3])\n",
    "dot_product = np.dot(a,g) #dot product of a and g\n",
    "print(\"Dot product of a and g:\",dot_product)"
   ]
  },
  {
   "cell_type": "code",
   "execution_count": 196,
   "id": "39cbc06a-d3e5-476b-a558-06b8ad130fdf",
   "metadata": {},
   "outputs": [
    {
     "name": "stdout",
     "output_type": "stream",
     "text": [
      "[1 2 3]\n",
      "[1 2 3]\n"
     ]
    }
   ],
   "source": [
    "print(a)\n",
    "print(a1)"
   ]
  },
  {
   "cell_type": "code",
   "execution_count": 204,
   "id": "34c0ffec-eb4f-4575-9eb2-921c0b86b69e",
   "metadata": {},
   "outputs": [
    {
     "name": "stdout",
     "output_type": "stream",
     "text": [
      "Dot_product of a1 and a: 14\n"
     ]
    }
   ],
   "source": [
    "a3=np.array([1,2,3])#for 1D array\n",
    "dot_product = np.dot(a1,a)\n",
    "print(\"Dot_product of a1 and a:\",dot_product)\n"
   ]
  },
  {
   "cell_type": "code",
   "execution_count": 332,
   "id": "3a6e5e2a-a59b-428c-8294-6ef6eccf93c0",
   "metadata": {},
   "outputs": [
    {
     "name": "stdout",
     "output_type": "stream",
     "text": [
      "Dot_product of a1 and a: 14\n"
     ]
    }
   ],
   "source": [
    "a2=([1,2,3])\n",
    "a4=np.array([1,2,3])\n",
    "dot_product = np.dot(a1,a2)\n",
    "print(\"Dot_product of a1 and a:\",dot_product)\n",
    "\n"
   ]
  },
  {
   "cell_type": "code",
   "execution_count": 210,
   "id": "17bfb2ae-9658-49dd-9ebf-a62b116fb09a",
   "metadata": {},
   "outputs": [
    {
     "name": "stdout",
     "output_type": "stream",
     "text": [
      "([1], [2], [3])\n",
      "[1 2 3]\n"
     ]
    }
   ],
   "source": [
    "a4=([1],[2],[3])\n",
    "print(a4)\n",
    "print(a1)"
   ]
  },
  {
   "cell_type": "code",
   "execution_count": 212,
   "id": "d15a5dea-c12d-4270-8689-0d18be5da57b",
   "metadata": {},
   "outputs": [
    {
     "name": "stdout",
     "output_type": "stream",
     "text": [
      "14\n"
     ]
    }
   ],
   "source": [
    "Dot_Product = a1@a2#For 2D array\n",
    "print(Dot_Product)"
   ]
  },
  {
   "cell_type": "code",
   "execution_count": 214,
   "id": "02b5f197-2eac-4d49-80cb-dfc65381200f",
   "metadata": {},
   "outputs": [
    {
     "name": "stdout",
     "output_type": "stream",
     "text": [
      "[14]\n"
     ]
    }
   ],
   "source": [
    "dot_product=np.dot(a1,a4)#For 2D array\n",
    "print(dot_product)"
   ]
  },
  {
   "cell_type": "code",
   "execution_count": 216,
   "id": "7c700c69-90df-4195-8e6f-daadb89f9c78",
   "metadata": {},
   "outputs": [
    {
     "name": "stdout",
     "output_type": "stream",
     "text": [
      "[14]\n"
     ]
    }
   ],
   "source": [
    "dot_product=np.matmul(a1,a4)#For 2D array\n",
    "print(dot_product)"
   ]
  },
  {
   "cell_type": "markdown",
   "id": "dad1c654-3d1f-4131-9781-3062e9ed341f",
   "metadata": {},
   "source": [
    "# 4. Statistical Function"
   ]
  },
  {
   "cell_type": "code",
   "execution_count": 240,
   "id": "8ed342a1-b9bf-4915-b893-85295dacaac3",
   "metadata": {},
   "outputs": [
    {
     "name": "stdout",
     "output_type": "stream",
     "text": [
      "mean of s: 2.5\n"
     ]
    }
   ],
   "source": [
    "s=np.array([1,2,3,4])\n",
    "mean=np.mean(s)\n",
    "print(\"mean of s:\",mean)"
   ]
  },
  {
   "cell_type": "code",
   "execution_count": 224,
   "id": "9b5ee409-678f-4105-becc-764332ec5e5c",
   "metadata": {},
   "outputs": [
    {
     "name": "stdout",
     "output_type": "stream",
     "text": [
      "standard deviation of s: 1.118033988749895\n"
     ]
    }
   ],
   "source": [
    "#Standard deviation of an array\n",
    "std_dev = np.std(s)\n",
    "print(\"standard deviation of s:\",std_dev)\n"
   ]
  },
  {
   "cell_type": "code",
   "execution_count": 232,
   "id": "8dc8dd1b-e91a-4c6a-93cc-8137ab9ccf92",
   "metadata": {},
   "outputs": [
    {
     "name": "stdout",
     "output_type": "stream",
     "text": [
      "min of s: 1\n"
     ]
    }
   ],
   "source": [
    "#Minimuum element of an array\n",
    "minimum=np.min(s)\n",
    "print(\"min of s:\",minimum)"
   ]
  },
  {
   "cell_type": "code",
   "execution_count": 234,
   "id": "70e0f0f5-17a4-4850-a5e7-ced74e9c2c34",
   "metadata": {},
   "outputs": [
    {
     "name": "stdout",
     "output_type": "stream",
     "text": [
      "Max of s: 1\n"
     ]
    }
   ],
   "source": [
    "#Maximum element of an array\n",
    "maximum = np.max(s)\n",
    "print(\"Max of s:\",minimum)"
   ]
  },
  {
   "cell_type": "markdown",
   "id": "a992f6cf-c267-409d-a595-40a76c8198a3",
   "metadata": {},
   "source": [
    "# 5. Linear Algebra Functions"
   ]
  },
  {
   "cell_type": "code",
   "execution_count": 242,
   "id": "545df574-21db-48ae-90ea-b3097b6aec30",
   "metadata": {},
   "outputs": [
    {
     "name": "stdout",
     "output_type": "stream",
     "text": [
      "[[1 2]\n",
      " [3 4]]\n"
     ]
    }
   ],
   "source": [
    "#Create a matrix\n",
    "matrix = np.array([[1,2],[3,4]])\n",
    "print(matrix)"
   ]
  },
  {
   "cell_type": "code",
   "execution_count": 246,
   "id": "b6ebdd69-f95b-40c1-a97f-2c658e85caab",
   "metadata": {},
   "outputs": [
    {
     "name": "stdout",
     "output_type": "stream",
     "text": [
      "Determinant of matrix: -2.0000000000000004\n"
     ]
    }
   ],
   "source": [
    "#Determinant of a mtrix\n",
    "determinant = np.linalg.det(matrix)#(1*4)-(2*3)\n",
    "print(\"Determinant of matrix:\",determinant)"
   ]
  },
  {
   "cell_type": "code",
   "execution_count": 254,
   "id": "d285c773-a3c0-44ac-8aac-9dc72bf986cd",
   "metadata": {},
   "outputs": [
    {
     "name": "stdout",
     "output_type": "stream",
     "text": [
      "Inverse of matrix:\n",
      " [[-2.   1. ]\n",
      " [ 1.5 -0.5]]\n"
     ]
    }
   ],
   "source": [
    "#Inverse of a matrix\n",
    "inverse = np.linalg.inv(matrix)#1/determination\n",
    "print(\"Inverse of matrix:\\n\",inverse)"
   ]
  },
  {
   "cell_type": "markdown",
   "id": "550cc5cb-cf5f-4311-8421-ca935b378caf",
   "metadata": {},
   "source": [
    "# 6. Random Sampling Function"
   ]
  },
  {
   "cell_type": "code",
   "execution_count": 263,
   "id": "0d6dbe75-3720-493d-a309-02c2941ec420",
   "metadata": {},
   "outputs": [
    {
     "name": "stdout",
     "output_type": "stream",
     "text": [
      "Random Values: [0.45677184 0.8128408  0.83995782]\n"
     ]
    }
   ],
   "source": [
    "#Generate random values between 0 nd 1\n",
    "random_values= np.random.rand(3) # array of 3 random values between 0 & 1\n",
    "print(\"Random Values:\",random_values)"
   ]
  },
  {
   "cell_type": "code",
   "execution_count": 267,
   "id": "a4fa103c-50fd-4f1e-810c-6d734d535d9d",
   "metadata": {},
   "outputs": [
    {
     "name": "stdout",
     "output_type": "stream",
     "text": [
      "Random Values: [0.5488135  0.71518937 0.60276338]\n"
     ]
    }
   ],
   "source": [
    "#Set seed for reproductivity\n",
    "np.random.seed(0)\n",
    "\n",
    "#Generate random values between 0 and 1\n",
    "random_values= np.random.rand(3)## array of 3 random values between 0 & 1 but not 1\n",
    "print(\"Random Values:\",random_values)"
   ]
  },
  {
   "cell_type": "code",
   "execution_count": 357,
   "id": "782a9698-0590-487d-81fe-319d108e9ac5",
   "metadata": {},
   "outputs": [
    {
     "name": "stdout",
     "output_type": "stream",
     "text": [
      "Random integers: [3 3 7 0 1 9 9 0 4 7]\n"
     ]
    }
   ],
   "source": [
    "#Generate random integers\n",
    "rand_ints = np.random.randint(0,10,size=10) #Random integers between 0 & 10\n",
    "print(\"Random integers:\",rand_ints)"
   ]
  },
  {
   "cell_type": "code",
   "execution_count": 361,
   "id": "e07ddc4d-9d1d-4503-9e09-6b0932be65cd",
   "metadata": {},
   "outputs": [
    {
     "name": "stdout",
     "output_type": "stream",
     "text": [
      "Random Integers: [5 0 3 3 7 9 3]\n"
     ]
    }
   ],
   "source": [
    "#Set seed for productivity\n",
    "np.random.seed(0)#every time you run it, you’ll get the same output:\n",
    "rand_ints = np.random.randint(0,10,size=7)#random integers will not work,output will be same\n",
    "print(\"Random Integers:\",rand_ints)"
   ]
  },
  {
   "cell_type": "markdown",
   "id": "2437e467-e329-4785-ab36-7cf68cce30c4",
   "metadata": {},
   "source": [
    "# 7. Boolean & Logical Fuctions"
   ]
  },
  {
   "cell_type": "code",
   "execution_count": 288,
   "id": "20c2dbe9-1595-455a-9813-4f2fb177f2a9",
   "metadata": {},
   "outputs": [
    {
     "name": "stdout",
     "output_type": "stream",
     "text": [
      "All Element True: False\n"
     ]
    }
   ],
   "source": [
    "#Check if all elementts are True\n",
    "#all\n",
    "logical_test = np.array([True,False,True])\n",
    "all_true = np.all(logical_test) # allfalue must true for output True\n",
    "print(\"All Element True:\",all_true)"
   ]
  },
  {
   "cell_type": "code",
   "execution_count": 290,
   "id": "f34c8754-2fe1-4031-b998-904e10c0e415",
   "metadata": {},
   "outputs": [
    {
     "name": "stdout",
     "output_type": "stream",
     "text": [
      "All lement True: False\n"
     ]
    }
   ],
   "source": [
    "#Check if all elements are True\n",
    "logical_test = np.array([False,False,False])\n",
    "all_true = np.all(logical_test) #chcek if all are True\n",
    "print(\"All lement True:\",all_true)"
   ]
  },
  {
   "cell_type": "code",
   "execution_count": 294,
   "id": "c6a9e19c-f6c8-4775-9173-fc2340e563e4",
   "metadata": {},
   "outputs": [
    {
     "name": "stdout",
     "output_type": "stream",
     "text": [
      "Any Elements True: False\n"
     ]
    }
   ],
   "source": [
    "#check if all the element are True\n",
    "#any\n",
    "\n",
    "any_true = np.any(logical_test)\n",
    "print(\"Any Elements True:\",any_true)#if any element is True than it provide output True\n"
   ]
  },
  {
   "cell_type": "markdown",
   "id": "886b17b9-fd02-4e24-b8cc-18dd31bedeb4",
   "metadata": {},
   "source": [
    "# 8. Set Operations"
   ]
  },
  {
   "cell_type": "code",
   "execution_count": 303,
   "id": "8aed0b66-2354-4bd0-a3ec-52d165b49037",
   "metadata": {},
   "outputs": [
    {
     "name": "stdout",
     "output_type": "stream",
     "text": [
      "Intersection of a and b: [3 4]\n"
     ]
    }
   ],
   "source": [
    "#Intersection of two arrays\n",
    "set_a = np.array([1,2,3,4])\n",
    "set_b = np.array([3,4,5,6])\n",
    "intersection = np.intersect1d(set_a,set_b)\n",
    "print(\"Intersection of a and b:\",intersection)"
   ]
  },
  {
   "cell_type": "code",
   "execution_count": 305,
   "id": "975b66ec-57a1-43de-9966-1df996e2dd81",
   "metadata": {},
   "outputs": [
    {
     "name": "stdout",
     "output_type": "stream",
     "text": [
      "union of a and b: [1 2 3 4 5 6]\n"
     ]
    }
   ],
   "source": [
    "#union of two arrays\n",
    "union = np.union1d(set_a,set_b)\n",
    "print(\"union of a and b:\",union)"
   ]
  },
  {
   "cell_type": "markdown",
   "id": "dee1e87e-964e-46f7-ac9e-fdb09c0d6fcd",
   "metadata": {},
   "source": [
    "# 9. Array Attribute Fuctions"
   ]
  },
  {
   "cell_type": "code",
   "execution_count": 349,
   "id": "99499484-6617-433c-bdca-97bfe2e306ca",
   "metadata": {},
   "outputs": [
    {
     "name": "stdout",
     "output_type": "stream",
     "text": [
      "shape of a: (3,)\n",
      "Size of : 3\n",
      "Number of  dimensions of a: 1\n",
      "Data type of a: int32\n"
     ]
    }
   ],
   "source": [
    "#Array attributes\n",
    "a = np.array([1,2,3])\n",
    "shape = a.shape # shape  of the array\n",
    "size = a.size # number of elements\n",
    "dimensions = a.ndim #number of dimensions\n",
    "dtype = a.dtype # Data type of the array\n",
    "\n",
    "print(\"shape of a:\",shape)\n",
    "print(\"Size of :\",size)\n",
    "print(\"Number of  dimensions of a:\",dimensions)\n",
    "print(\"Data type of a:\",dtype)"
   ]
  },
  {
   "cell_type": "markdown",
   "id": "c3e58fc2-fe7b-4cae-807f-938fa56b49e2",
   "metadata": {},
   "source": [
    "# 10. Other Functions"
   ]
  },
  {
   "cell_type": "code",
   "execution_count": 311,
   "id": "cbbfca40-6e56-48c4-8b7c-f5321a290aab",
   "metadata": {},
   "outputs": [
    {
     "name": "stdout",
     "output_type": "stream",
     "text": [
      "Copied of array: [1 2 3]\n"
     ]
    }
   ],
   "source": [
    "#Create a copy an array\n",
    "a=np.array([1,2,3])\n",
    "copied_array = np.copy(a) #create a copy of array \n",
    "print(\"Copied of array:\",copied_array)\n"
   ]
  },
  {
   "cell_type": "code",
   "execution_count": 373,
   "id": "cf710248-a21e-4e62-a220-8ef873d7da87",
   "metadata": {},
   "outputs": [
    {
     "name": "stdout",
     "output_type": "stream",
     "text": [
      "Copied of array: [4 5 6]\n"
     ]
    }
   ],
   "source": [
    "q1=np.array([4,5,6])#q1 and copied_array have the same values.\n",
    "                          #But they are stored in different memory locations \n",
    "copied_array=np.copy(q1)\n",
    "print(\"Copied of array:\",copied_array)"
   ]
  },
  {
   "cell_type": "code",
   "execution_count": 377,
   "id": "d7fe5bfc-d265-40bd-999d-44a316ba4124",
   "metadata": {},
   "outputs": [
    {
     "data": {
      "text/plain": [
       "array([1, 2, 3])"
      ]
     },
     "execution_count": 377,
     "metadata": {},
     "output_type": "execute_result"
    }
   ],
   "source": [
    "a"
   ]
  },
  {
   "cell_type": "code",
   "execution_count": 375,
   "id": "f9c2fd30-9ab0-4187-b172-97de63a2989d",
   "metadata": {},
   "outputs": [
    {
     "name": "stdout",
     "output_type": "stream",
     "text": [
      "Size of a in bytes: 12\n"
     ]
    }
   ],
   "source": [
    "#Size in bytes of an array\n",
    "array_size_in_bytes = a.nbytes #each integer (int32) occupies 4 bytes, and there are 3 elemt\n",
    "#so the total is 3 * 4 = 12 bytes.\n",
    "print(\"Size of a in bytes:\",array_size_in_bytes)"
   ]
  },
  {
   "cell_type": "code",
   "execution_count": 319,
   "id": "81e4508b-c623-4372-abe5-b89a61db12f5",
   "metadata": {},
   "outputs": [
    {
     "name": "stdout",
     "output_type": "stream",
     "text": [
      "dO a and copied_array share memory? False\n"
     ]
    }
   ],
   "source": [
    "#check if two arrays share memory\n",
    "shared = np.shares_memory(a,copied_array) \n",
    "print(\"dO a and copied_array share memory?\",shared)\n"
   ]
  },
  {
   "cell_type": "code",
   "execution_count": null,
   "id": "2072ca33-7b1c-4d09-a3e1-be0ebf1c2afd",
   "metadata": {},
   "outputs": [],
   "source": []
  }
 ],
 "metadata": {
  "kernelspec": {
   "display_name": "Python [conda env:base] *",
   "language": "python",
   "name": "conda-base-py"
  },
  "language_info": {
   "codemirror_mode": {
    "name": "ipython",
    "version": 3
   },
   "file_extension": ".py",
   "mimetype": "text/x-python",
   "name": "python",
   "nbconvert_exporter": "python",
   "pygments_lexer": "ipython3",
   "version": "3.12.7"
  }
 },
 "nbformat": 4,
 "nbformat_minor": 5
}
